{
 "cells": [
  {
   "cell_type": "code",
   "execution_count": 2,
   "id": "56a0654a",
   "metadata": {},
   "outputs": [
    {
     "name": "stdout",
     "output_type": "stream",
     "text": [
      "Fitting 5 folds for each of 36 candidates, totalling 180 fits\n",
      "Best parameters (GridSearchCV): {'max_depth': 5, 'min_samples_leaf': 2, 'min_samples_split': 2, 'n_estimators': 150}\n",
      "Best accuracy on validation set: 0.8223639455782313\n",
      "Fitting 5 folds for each of 20 candidates, totalling 100 fits\n",
      "Best parameters (RandomizedSearchCV): {'max_depth': 10, 'min_samples_leaf': 4, 'min_samples_split': 9, 'n_estimators': 70}\n",
      "Best accuracy on validation set: 0.8304421768707483\n",
      "✅ Model saved as final_model.pkl\n"
     ]
    }
   ],
   "source": [
    "import pandas as pd\n",
    "from sklearn.model_selection import train_test_split, GridSearchCV, RandomizedSearchCV\n",
    "from sklearn.ensemble import RandomForestClassifier\n",
    "from scipy.stats import randint\n",
    "import joblib\n",
    "import os\n",
    "\n",
    "# 1. Load data\n",
    "df = pd.read_csv('../data/heart_disease_clean.csv')\n",
    "X = df.drop('num', axis=1)\n",
    "y = df['num']\n",
    "X_train, X_test, y_train, y_test = train_test_split(X, y, test_size=0.2, random_state=42)\n",
    "\n",
    "# 2. GridSearchCV\n",
    "param_grid = {\n",
    "    'n_estimators': [50, 100, 150],\n",
    "    'max_depth': [None, 5, 10],\n",
    "    'min_samples_split': [2, 5],\n",
    "    'min_samples_leaf': [1, 2]\n",
    "}\n",
    "grid_search = GridSearchCV(RandomForestClassifier(random_state=42), param_grid,\n",
    "                           cv=5, scoring='accuracy', n_jobs=-1, verbose=1)\n",
    "grid_search.fit(X_train, y_train)\n",
    "print(\"Best parameters (GridSearchCV):\", grid_search.best_params_)\n",
    "print(\"Best accuracy on validation set:\", grid_search.best_score_)\n",
    "\n",
    "# 3. RandomizedSearchCV\n",
    "param_dist = {\n",
    "    'n_estimators': randint(50, 200),\n",
    "    'max_depth': [None, 5, 10, 15],\n",
    "    'min_samples_split': randint(2, 11),\n",
    "    'min_samples_leaf': randint(1, 5)\n",
    "}\n",
    "random_search = RandomizedSearchCV(RandomForestClassifier(random_state=42), param_distributions=param_dist,\n",
    "                                   n_iter=20, cv=5, scoring='accuracy', random_state=42, n_jobs=-1, verbose=1)\n",
    "random_search.fit(X_train, y_train)\n",
    "print(\"Best parameters (RandomizedSearchCV):\", random_search.best_params_)\n",
    "print(\"Best accuracy on validation set:\", random_search.best_score_)\n",
    "\n",
    "# 4. Save best model\n",
    "best_model = random_search.best_estimator_\n",
    "os.makedirs('../models', exist_ok=True)\n",
    "joblib.dump(best_model, '../models/final_model.pkl')\n",
    "print(\"✅ Model saved as final_model.pkl\")"
   ]
  }
 ],
 "metadata": {
  "kernelspec": {
   "display_name": "Python 3",
   "language": "python",
   "name": "python3"
  },
  "language_info": {
   "codemirror_mode": {
    "name": "ipython",
    "version": 3
   },
   "file_extension": ".py",
   "mimetype": "text/x-python",
   "name": "python",
   "nbconvert_exporter": "python",
   "pygments_lexer": "ipython3",
   "version": "3.11.9"
  }
 },
 "nbformat": 4,
 "nbformat_minor": 5
}
